{
  "metadata": {
    "kernelspec": {
      "name": "python",
      "display_name": "Python (Pyodide)",
      "language": "python"
    },
    "language_info": {
      "codemirror_mode": {
        "name": "python",
        "version": 3
      },
      "file_extension": ".py",
      "mimetype": "text/x-python",
      "name": "python",
      "nbconvert_exporter": "python",
      "pygments_lexer": "ipython3",
      "version": "3.8"
    }
  },
  "nbformat_minor": 4,
  "nbformat": 4,
  "cells": [
    {
      "cell_type": "markdown",
      "source": "# Data Science Tools and Ecosystem",
      "metadata": {}
    },
    {
      "cell_type": "markdown",
      "source": "## Introduction\nIn this notebook, Data Science Tools and Ecosystem are summarized.",
      "metadata": {}
    },
    {
      "cell_type": "markdown",
      "source": "**Objectives:**\n\n- List popular languages used for Data Science.\n- Identify common libraries and tools used in Data Science.\n- Demonstrate basic arithmetic expressions in Python.\n- Convert units, such as minutes to hours, using Python code.",
      "metadata": {}
    },
    {
      "cell_type": "markdown",
      "source": "## Data Science Languages\nSome of the popular language that Data Scientist use are:\n1. **Phyton** - Widely used for data manipulation, analysis, and machine learning due to its simplicity and powerful libraries.\n2. **R** - A language specifically designed for statistical analysis and data visualization.\n3. **SQL** - Essential for working with databases, querying, and managing large datasets.\n\nThese languages are frequently used in data science projects and are valued for their versatility and functionality.",
      "metadata": {}
    },
    {
      "cell_type": "markdown",
      "source": "### Data Science Libraries\n\nSome of the commonly used libraries by Data Scientists include:\n\n1. **Pandas** - A powerful library for data manipulation and analysis, especially for working with structured data like CSV files.\n2. **NumPy** - Provides support for large multi-dimensional arrays and matrices, along with a variety of mathematical functions to operate on these arrays.\n3. **Matplotlib** - A comprehensive library for creating static, animated, and interactive visualizations in Python.\n\nThese libraries play a critical role in handling, processing, and visualizing data in various data science projects.",
      "metadata": {}
    },
    {
      "cell_type": "markdown",
      "source": "## Data Science Tools\n\n| Data Science Tools      |\n|-------------------------|\n| Jupyter Notebook         |\n| RStudio                  |\n| Apache Zeppelin          |",
      "metadata": {}
    },
    {
      "cell_type": "markdown",
      "source": "### Arithmetic Expression Examples\n\nIn this section, we will explore simple arithmetic operations such as addition and multiplication. These operations are fundamental in programming and data science for performing various calculations.",
      "metadata": {}
    },
    {
      "cell_type": "code",
      "source": "# This is a simple arithmetic expression to multiply then add integers\nresult = (3 * 4) + 5\nprint (result)",
      "metadata": {
        "trusted": true
      },
      "outputs": [
        {
          "name": "stdout",
          "text": "17\n",
          "output_type": "stream"
        }
      ],
      "execution_count": 5
    },
    {
      "cell_type": "code",
      "source": "# This will convert 200 minutes to hours by dividing by 60\nminutes = 200\nhours = minutes / 60\nhours",
      "metadata": {
        "trusted": true
      },
      "outputs": [
        {
          "execution_count": 6,
          "output_type": "execute_result",
          "data": {
            "text/plain": "3.3333333333333335"
          },
          "metadata": {}
        }
      ],
      "execution_count": 6
    },
    {
      "cell_type": "markdown",
      "source": "## Author\n\nAndy Howard Limengan",
      "metadata": {}
    },
    {
      "cell_type": "code",
      "source": "",
      "metadata": {
        "trusted": true
      },
      "outputs": [],
      "execution_count": null
    }
  ]
}